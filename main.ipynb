{
 "cells": [
  {
   "cell_type": "code",
   "execution_count": 50,
   "metadata": {},
   "outputs": [],
   "source": [
    "import matplotlib.pyplot as plt\n",
    "import numpy as np\n",
    "import networkx as nx"
   ]
  },
  {
   "cell_type": "code",
   "execution_count": 64,
   "metadata": {
    "collapsed": true
   },
   "outputs": [],
   "source": [
    "def init(N, Z, p):\n",
    "    G = nx.Graph()\n",
    "    for i in range(N):\n",
    "        for j in range(i, i + int(Z/2) + 1):\n",
    "            G.add_edge(i, j % N)\n",
    "    \n",
    "    shortcuts = int(p * N * Z/2)\n",
    "    \n",
    "    for i in range(shortcuts):\n",
    "        n1, n2 = np.random.choice(N, size=2, replace=False)\n",
    "        \n",
    "        G.add_edge(n1, n2)\n",
    "    \n",
    "    return G\n",
    "\n",
    "\n",
    "def find_path_lengths_from_node(G, node):\n",
    "    \n",
    "    \n",
    "def get_node_dist(n1, n2, G, Z):\n",
    "    curr_shell = [n1]\n",
    "    \n",
    "    \n",
    "    \n",
    "    found_n2 = np.abs(n2 - n1) < Z/2\n",
    "\n",
    "    if found_n2: return 1\n",
    "\n",
    "    neigh = G.neighbors(n1)\n",
    "    \n",
    "    if n2 in neigh:\n",
    "        return 1\n",
    "    \n",
    "    new_shell = []\n",
    "    for n in neigh:\n",
    "        new_shell += G.neighbors(n)\n",
    "    \n",
    "    if n2 in new_shell:\n",
    "        d += 1\n",
    "        \n",
    "    return d\n",
    "    \n",
    "    "
   ]
  },
  {
   "cell_type": "code",
   "execution_count": 69,
   "metadata": {},
   "outputs": [
    {
     "data": {
      "image/png": "[encoded data removed]",
      "text/plain": [
       "<matplotlib.figure.Figure at 0x204a71cfb00>"
      ]
     },
     "metadata": {},
     "output_type": "display_data"
    }
   ],
   "source": [
    "N = 6\n",
    "Z = 2\n",
    "p = 0.5\n",
    "\n",
    "G = init(N, Z, p)\n",
    "\n",
    "nx.draw_circular(G)\n",
    "plt.show()"
   ]
  }
 ],
 "metadata": {
  "kernelspec": {
   "display_name": "Python 3",
   "language": "python",
   "name": "python3"
  },
  "language_info": {
   "codemirror_mode": {
    "name": "ipython",
    "version": 3
   },
   "file_extension": ".py",
   "mimetype": "text/x-python",
   "name": "python",
   "nbconvert_exporter": "python",
   "pygments_lexer": "ipython3",
   "version": "3.6.3"
  }
 },
 "nbformat": 4,
 "nbformat_minor": 2
}
